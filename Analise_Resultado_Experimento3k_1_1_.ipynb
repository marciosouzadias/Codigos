{
  "cells": [
    {
      "attachments": {},
      "cell_type": "markdown",
      "metadata": {
        "id": "1V9h80AHyQXG"
      },
      "source": [
        "##Contabilizando os Resultados do Experimento 1.1\n",
        "\n",
        "###Configuração do Experimento:\n",
        "\n",
        "Pré-processamento: Com Stopwords\n",
        "\n",
        "Segmentação Sentencial: Segmentation_v1 (sent_tokenize do nltk)\n",
        "\n",
        "Modelo de Lingua Utilizado no Bertopic: multilingual e n-grama(4,4)\n",
        "\n",
        "Descrição dos Temas: description_full (Completa e tudo minúsculo, como no sistema do STJ)\n",
        "\n",
        "Função de Similaridade: média dos valores de similaridade de cada termo do tópico mais frequente. Uso da função de similaridade do spacy\n",
        "    "
      ]
    },
    {
      "cell_type": "code",
      "execution_count": 1,
      "metadata": {
        "id": "DAUocOrpyYeG"
      },
      "outputs": [],
      "source": [
        "import pandas as pd\n",
        "import numpy as np\n",
        "from sklearn import metrics\n",
        "from sklearn.metrics import precision_recall_fscore_support\n",
        "import matplotlib.pyplot as plt\n",
        "import seaborn as sns\n",
        "import csv"
      ]
    },
    {
      "cell_type": "code",
      "execution_count": null,
      "metadata": {
        "colab": {
          "base_uri": "https://localhost:8080/"
        },
        "id": "RpyaHBjRzICa",
        "outputId": "87c2d6ad-e9d2-42a2-ce90-fc8188c3ac6b"
      },
      "outputs": [
        {
          "name": "stdout",
          "output_type": "stream",
          "text": [
            "Drive already mounted at /content/drive; to attempt to forcibly remount, call drive.mount(\"/content/drive\", force_remount=True).\n"
          ]
        }
      ],
      "source": [
        "from google.colab import drive\n",
        "drive.mount('/content/drive')\n",
        "\n",
        "caminho = '/content/drive/My Drive/Colab Notebooks/'\n",
        "#caminhos = [os.path.join('/content/drive/My Drive/Colab Notebooks/acordaos_tema_exclusivo/1015/', nome) for nome in os.listdir('/content/drive/My Drive/Colab Notebooks/acordaos_tema_exclusivo/1015/')]"
      ]
    },
    {
      "cell_type": "code",
      "execution_count": null,
      "metadata": {
        "colab": {
          "base_uri": "https://localhost:8080/",
          "height": 206
        },
        "id": "Jb853btS2trp",
        "outputId": "8469aae2-965c-4dfa-9662-892de9b54b5c"
      },
      "outputs": [
        {
          "data": {
            "text/html": [
              "\n",
              "  <div id=\"df-df60df17-df4a-4a25-bfe5-537868c8cfe1\">\n",
              "    <div class=\"colab-df-container\">\n",
              "      <div>\n",
              "<style scoped>\n",
              "    .dataframe tbody tr th:only-of-type {\n",
              "        vertical-align: middle;\n",
              "    }\n",
              "\n",
              "    .dataframe tbody tr th {\n",
              "        vertical-align: top;\n",
              "    }\n",
              "\n",
              "    .dataframe thead th {\n",
              "        text-align: right;\n",
              "    }\n",
              "</style>\n",
              "<table border=\"1\" class=\"dataframe\">\n",
              "  <thead>\n",
              "    <tr style=\"text-align: right;\">\n",
              "      <th></th>\n",
              "      <th>id</th>\n",
              "      <th>Tema Classificado</th>\n",
              "      <th>Valor Tema Classificado</th>\n",
              "      <th>Tema Real</th>\n",
              "    </tr>\n",
              "  </thead>\n",
              "  <tbody>\n",
              "    <tr>\n",
              "      <th>0</th>\n",
              "      <td>37545</td>\n",
              "      <td>1033</td>\n",
              "      <td>0</td>\n",
              "      <td>1046</td>\n",
              "    </tr>\n",
              "    <tr>\n",
              "      <th>1</th>\n",
              "      <td>72946</td>\n",
              "      <td>1033</td>\n",
              "      <td>0</td>\n",
              "      <td>1046</td>\n",
              "    </tr>\n",
              "    <tr>\n",
              "      <th>2</th>\n",
              "      <td>10395</td>\n",
              "      <td>1039</td>\n",
              "      <td>0</td>\n",
              "      <td>1046</td>\n",
              "    </tr>\n",
              "    <tr>\n",
              "      <th>3</th>\n",
              "      <td>2004</td>\n",
              "      <td>1033</td>\n",
              "      <td>0</td>\n",
              "      <td>1046</td>\n",
              "    </tr>\n",
              "    <tr>\n",
              "      <th>4</th>\n",
              "      <td>42430</td>\n",
              "      <td>1033</td>\n",
              "      <td>0</td>\n",
              "      <td>1046</td>\n",
              "    </tr>\n",
              "  </tbody>\n",
              "</table>\n",
              "</div>\n",
              "      <button class=\"colab-df-convert\" onclick=\"convertToInteractive('df-df60df17-df4a-4a25-bfe5-537868c8cfe1')\"\n",
              "              title=\"Convert this dataframe to an interactive table.\"\n",
              "              style=\"display:none;\">\n",
              "        \n",
              "  <svg xmlns=\"http://www.w3.org/2000/svg\" height=\"24px\"viewBox=\"0 0 24 24\"\n",
              "       width=\"24px\">\n",
              "    <path d=\"M0 0h24v24H0V0z\" fill=\"none\"/>\n",
              "    <path d=\"M18.56 5.44l.94 2.06.94-2.06 2.06-.94-2.06-.94-.94-2.06-.94 2.06-2.06.94zm-11 1L8.5 8.5l.94-2.06 2.06-.94-2.06-.94L8.5 2.5l-.94 2.06-2.06.94zm10 10l.94 2.06.94-2.06 2.06-.94-2.06-.94-.94-2.06-.94 2.06-2.06.94z\"/><path d=\"M17.41 7.96l-1.37-1.37c-.4-.4-.92-.59-1.43-.59-.52 0-1.04.2-1.43.59L10.3 9.45l-7.72 7.72c-.78.78-.78 2.05 0 2.83L4 21.41c.39.39.9.59 1.41.59.51 0 1.02-.2 1.41-.59l7.78-7.78 2.81-2.81c.8-.78.8-2.07 0-2.86zM5.41 20L4 18.59l7.72-7.72 1.47 1.35L5.41 20z\"/>\n",
              "  </svg>\n",
              "      </button>\n",
              "      \n",
              "  <style>\n",
              "    .colab-df-container {\n",
              "      display:flex;\n",
              "      flex-wrap:wrap;\n",
              "      gap: 12px;\n",
              "    }\n",
              "\n",
              "    .colab-df-convert {\n",
              "      background-color: #E8F0FE;\n",
              "      border: none;\n",
              "      border-radius: 50%;\n",
              "      cursor: pointer;\n",
              "      display: none;\n",
              "      fill: #1967D2;\n",
              "      height: 32px;\n",
              "      padding: 0 0 0 0;\n",
              "      width: 32px;\n",
              "    }\n",
              "\n",
              "    .colab-df-convert:hover {\n",
              "      background-color: #E2EBFA;\n",
              "      box-shadow: 0px 1px 2px rgba(60, 64, 67, 0.3), 0px 1px 3px 1px rgba(60, 64, 67, 0.15);\n",
              "      fill: #174EA6;\n",
              "    }\n",
              "\n",
              "    [theme=dark] .colab-df-convert {\n",
              "      background-color: #3B4455;\n",
              "      fill: #D2E3FC;\n",
              "    }\n",
              "\n",
              "    [theme=dark] .colab-df-convert:hover {\n",
              "      background-color: #434B5C;\n",
              "      box-shadow: 0px 1px 3px 1px rgba(0, 0, 0, 0.15);\n",
              "      filter: drop-shadow(0px 1px 2px rgba(0, 0, 0, 0.3));\n",
              "      fill: #FFFFFF;\n",
              "    }\n",
              "  </style>\n",
              "\n",
              "      <script>\n",
              "        const buttonEl =\n",
              "          document.querySelector('#df-df60df17-df4a-4a25-bfe5-537868c8cfe1 button.colab-df-convert');\n",
              "        buttonEl.style.display =\n",
              "          google.colab.kernel.accessAllowed ? 'block' : 'none';\n",
              "\n",
              "        async function convertToInteractive(key) {\n",
              "          const element = document.querySelector('#df-df60df17-df4a-4a25-bfe5-537868c8cfe1');\n",
              "          const dataTable =\n",
              "            await google.colab.kernel.invokeFunction('convertToInteractive',\n",
              "                                                     [key], {});\n",
              "          if (!dataTable) return;\n",
              "\n",
              "          const docLinkHtml = 'Like what you see? Visit the ' +\n",
              "            '<a target=\"_blank\" href=https://colab.research.google.com/notebooks/data_table.ipynb>data table notebook</a>'\n",
              "            + ' to learn more about interactive tables.';\n",
              "          element.innerHTML = '';\n",
              "          dataTable['output_type'] = 'display_data';\n",
              "          await google.colab.output.renderOutput(dataTable, element);\n",
              "          const docLink = document.createElement('div');\n",
              "          docLink.innerHTML = docLinkHtml;\n",
              "          element.appendChild(docLink);\n",
              "        }\n",
              "      </script>\n",
              "    </div>\n",
              "  </div>\n",
              "  "
            ],
            "text/plain": [
              "      id  Tema Classificado  Valor Tema Classificado  Tema Real\n",
              "0  37545               1033                        0       1046\n",
              "1  72946               1033                        0       1046\n",
              "2  10395               1039                        0       1046\n",
              "3   2004               1033                        0       1046\n",
              "4  42430               1033                        0       1046"
            ]
          },
          "execution_count": 124,
          "metadata": {},
          "output_type": "execute_result"
        }
      ],
      "source": [
        "result = pd.read_csv(caminho+'Resultado1.1 - Experimentos dos 3k.csv')\n",
        "result.head()"
      ]
    },
    {
      "cell_type": "code",
      "execution_count": null,
      "metadata": {
        "id": "g6ehXRQHacUM"
      },
      "outputs": [],
      "source": [
        "true = []\n",
        "pred = []\n",
        "for i in range(len(result)):\n",
        "  true.append(result.iloc[i].at['Tema Real'])\n",
        "  pred.append(result.iloc[i].at['Tema Classificado'])\n",
        "y_true = np.array(true)\n",
        "y_pred = np.array(pred)"
      ]
    },
    {
      "cell_type": "code",
      "execution_count": null,
      "metadata": {
        "colab": {
          "base_uri": "https://localhost:8080/"
        },
        "id": "YL2pfJ97bnSN",
        "outputId": "be12cf2a-6499-4864-e6c3-0e1408586895"
      },
      "outputs": [
        {
          "data": {
            "text/plain": [
              "648"
            ]
          },
          "execution_count": 126,
          "metadata": {},
          "output_type": "execute_result"
        }
      ],
      "source": [
        "len(pred)"
      ]
    },
    {
      "cell_type": "code",
      "execution_count": null,
      "metadata": {
        "colab": {
          "base_uri": "https://localhost:8080/"
        },
        "id": "qMtOr-1S3Gon",
        "outputId": "d3d25b9d-dc07-46e7-9709-890f45aff211"
      },
      "outputs": [
        {
          "data": {
            "text/plain": [
              "(0.28180196253345224, 0.2801269906656266, 0.2268491932094815, None)"
            ]
          },
          "execution_count": 127,
          "metadata": {},
          "output_type": "execute_result"
        }
      ],
      "source": [
        "precision_recall_fscore_support(y_true, y_pred, average='macro')"
      ]
    },
    {
      "cell_type": "code",
      "execution_count": null,
      "metadata": {
        "colab": {
          "base_uri": "https://localhost:8080/"
        },
        "id": "131WSSb6mwwD",
        "outputId": "11625c73-cbb6-48f3-f755-dd5554f69222"
      },
      "outputs": [
        {
          "data": {
            "text/plain": [
              "(0.10493827160493827, 0.10493827160493827, 0.10493827160493827, None)"
            ]
          },
          "execution_count": 128,
          "metadata": {},
          "output_type": "execute_result"
        }
      ],
      "source": [
        "precision_recall_fscore_support(y_true, y_pred, average='micro')"
      ]
    },
    {
      "cell_type": "code",
      "execution_count": null,
      "metadata": {
        "colab": {
          "base_uri": "https://localhost:8080/"
        },
        "id": "kk_zL4Wqm8qW",
        "outputId": "60f60796-7fcf-41f5-99c7-29b1078f2587"
      },
      "outputs": [
        {
          "data": {
            "text/plain": [
              "(0.1967907842424643, 0.10493827160493827, 0.10027587464251762, None)"
            ]
          },
          "execution_count": 129,
          "metadata": {},
          "output_type": "execute_result"
        }
      ],
      "source": [
        "precision_recall_fscore_support(y_true, y_pred, average='weighted')"
      ]
    },
    {
      "cell_type": "code",
      "execution_count": null,
      "metadata": {
        "colab": {
          "base_uri": "https://localhost:8080/"
        },
        "id": "xedXRLSW3lxo",
        "outputId": "bb6772cf-a5da-4438-fbc3-2ae51dc75523"
      },
      "outputs": [
        {
          "data": {
            "text/plain": [
              "array([[  1,   0,   0,   0,   0,   0],\n",
              "       [  0,   0,  19,  42,   0,   1],\n",
              "       [  0,   1,  50, 213,   1,   2],\n",
              "       [  0,   0,  13,  11,   2,   0],\n",
              "       [  0,   1, 126,  71,   1,  17],\n",
              "       [  0,   0,  28,  43,   0,   5]])"
            ]
          },
          "execution_count": 130,
          "metadata": {},
          "output_type": "execute_result"
        }
      ],
      "source": [
        "cm = metrics.confusion_matrix(y_true, y_pred)\n",
        "cm"
      ]
    },
    {
      "cell_type": "code",
      "execution_count": null,
      "metadata": {
        "colab": {
          "base_uri": "https://localhost:8080/",
          "height": 388
        },
        "id": "BGKMxxOzuCfR",
        "outputId": "8eb40a87-d657-428a-8fc0-f7b39b43cddb"
      },
      "outputs": [
        {
          "data": {
            "image/png": "[encoded data removed]",
            "text/plain": [
              "<Figure size 432x432 with 1 Axes>"
            ]
          },
          "metadata": {
            "needs_background": "light"
          },
          "output_type": "display_data"
        }
      ],
      "source": [
        "plt.figure(figsize=(6,6))\n",
        "sns.heatmap(cm, annot=True, fmt='0.3f', linewidth=0.5, square=True, cbar=False)\n",
        "plt.ylabel('Valores Atuais')\n",
        "plt.xlabel('Valores Classificados')\n",
        "plt.show()"
      ]
    },
    {
      "cell_type": "code",
      "execution_count": null,
      "metadata": {
        "colab": {
          "base_uri": "https://localhost:8080/"
        },
        "id": "aan-OXl4xvo2",
        "outputId": "3b8866c1-c349-4158-c751-efefc3a9f903"
      },
      "outputs": [
        {
          "name": "stdout",
          "output_type": "stream",
          "text": [
            "              precision    recall  f1-score   support\n",
            "\n",
            "         929       1.00      1.00      1.00         1\n",
            "        1015       0.00      0.00      0.00        62\n",
            "        1033       0.21      0.19      0.20       267\n",
            "        1039       0.03      0.42      0.05        26\n",
            "        1046       0.25      0.00      0.01       216\n",
            "        1101       0.20      0.07      0.10        76\n",
            "\n",
            "    accuracy                           0.10       648\n",
            "   macro avg       0.28      0.28      0.23       648\n",
            "weighted avg       0.20      0.10      0.10       648\n",
            "\n"
          ]
        }
      ],
      "source": [
        "print(metrics.classification_report(y_true, y_pred))"
      ]
    }
  ],
  "metadata": {
    "colab": {
      "provenance": []
    },
    "kernelspec": {
      "display_name": "Python 3",
      "name": "python3"
    },
    "language_info": {
      "codemirror_mode": {
        "name": "ipython",
        "version": 3
      },
      "file_extension": ".py",
      "mimetype": "text/x-python",
      "name": "python",
      "nbconvert_exporter": "python",
      "pygments_lexer": "ipython3",
      "version": "3.10.9"
    }
  },
  "nbformat": 4,
  "nbformat_minor": 0
}
